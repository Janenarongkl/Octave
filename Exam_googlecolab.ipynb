{
  "nbformat": 4,
  "nbformat_minor": 0,
  "metadata": {
    "colab": {
      "provenance": [],
      "authorship_tag": "ABX9TyPJcIt+n6hfj40Cu4Xr5fBL",
      "include_colab_link": true
    },
    "kernelspec": {
      "name": "python3",
      "display_name": "Python 3"
    },
    "language_info": {
      "name": "python"
    }
  },
  "cells": [
    {
      "cell_type": "markdown",
      "metadata": {
        "id": "view-in-github",
        "colab_type": "text"
      },
      "source": [
        "<a href=\"https://colab.research.google.com/github/Janenarongkl/Octave/blob/master/Exam_googlecolab.ipynb\" target=\"_parent\"><img src=\"https://colab.research.google.com/assets/colab-badge.svg\" alt=\"Open In Colab\"/></a>"
      ]
    },
    {
      "cell_type": "markdown",
      "source": [],
      "metadata": {
        "id": "A0UKMBncw-pp"
      }
    },
    {
      "cell_type": "markdown",
      "source": [
        "## **Installing GNU Octave into a Colab Session**"
      ],
      "metadata": {
        "id": "JcCqpXOdRkL-"
      }
    },
    {
      "cell_type": "code",
      "source": [
        "from IPython import display\n",
        "!sudo apt-get update\n",
        "!sudo apt-get install octave\n",
        "\n",
        "display.clear_output()\n",
        "\n",
        "#check that octave is installed\n",
        "!octave --version"
      ],
      "metadata": {
        "id": "Pp3CIU6swtSu",
        "colab": {
          "base_uri": "https://localhost:8080/"
        },
        "outputId": "8c3f7c17-d5f8-4e21-80aa-60318add39ff"
      },
      "execution_count": 1,
      "outputs": [
        {
          "output_type": "stream",
          "name": "stdout",
          "text": [
            "octave: X11 DISPLAY environment variable not set\n",
            "octave: disabling GUI features\n",
            "GNU Octave, version 6.4.0\n",
            "Copyright (C) 2021 The Octave Project Developers.\n",
            "This is free software; see the source code for copying conditions.\n",
            "There is ABSOLUTELY NO WARRANTY; not even for MERCHANTABILITY or\n",
            "FITNESS FOR A PARTICULAR PURPOSE.\n",
            "\n",
            "Octave was configured for \"x86_64-pc-linux-gnu\".\n",
            "\n",
            "Additional information about Octave is available at https://www.octave.org.\n",
            "\n",
            "Please contribute if you find this software useful.\n",
            "For more information, visit https://www.octave.org/get-involved.html\n",
            "\n",
            "Read https://www.octave.org/bugs.html to learn how to submit bug reports.\n"
          ]
        }
      ]
    },
    {
      "cell_type": "markdown",
      "source": [
        "## **Example: Simple Mathematical Operation**"
      ],
      "metadata": {
        "id": "1_NA2snJPwYW"
      }
    },
    {
      "cell_type": "code",
      "source": [
        "#magic command to write a cell to a file\n",
        "%%writefile multiply.m\n",
        "x = 10;\n",
        "y = 5;\n",
        "z = 1;\n",
        "\n",
        "display(x*y-1);"
      ],
      "metadata": {
        "colab": {
          "base_uri": "https://localhost:8080/"
        },
        "id": "EmhyWMXlPRt0",
        "outputId": "f3ba7d7e-2cb8-49fb-956d-d994ac5d3972"
      },
      "execution_count": null,
      "outputs": [
        {
          "output_type": "stream",
          "name": "stdout",
          "text": [
            "Writing multiply.m\n"
          ]
        }
      ]
    },
    {
      "cell_type": "code",
      "source": [
        "#we run octave by calling it as a command and executing the m-file with the code\n",
        "!octave multiply.m"
      ],
      "metadata": {
        "colab": {
          "base_uri": "https://localhost:8080/"
        },
        "id": "lDAJIDLiPr3T",
        "outputId": "4f44bdb7-7321-46e9-b1cf-e1af9f9a16ae"
      },
      "execution_count": null,
      "outputs": [
        {
          "output_type": "stream",
          "name": "stdout",
          "text": [
            "octave: X11 DISPLAY environment variable not set\n",
            "octave: disabling GUI features\n",
            "49\n"
          ]
        }
      ]
    },
    {
      "cell_type": "markdown",
      "source": [
        "## **Example: Generating a Plot**"
      ],
      "metadata": {
        "id": "-T7COCvjQ6W-"
      }
    },
    {
      "cell_type": "code",
      "source": [
        "%%writefile sin_plot.m\n",
        "# Create an evenly-spaced vector from -10..10\n",
        "x = -10:0.1:10;\n",
        "# y is also a vector\n",
        "y = sin (x);\n",
        "plot (x, y);\n",
        "title (\"Simple 2-D Plot\");\n",
        "xlabel (\"x\");\n",
        "ylabel (\"sin (x)\")\n",
        "#Can print to image or PDF\n",
        "print -dpng sin_plot.png;"
      ],
      "metadata": {
        "colab": {
          "base_uri": "https://localhost:8080/"
        },
        "id": "tglF0VSbPtzc",
        "outputId": "199fac77-84bb-4887-b506-7bf4da1373d3"
      },
      "execution_count": 2,
      "outputs": [
        {
          "output_type": "stream",
          "name": "stdout",
          "text": [
            "Writing sin_plot.m\n"
          ]
        }
      ]
    },
    {
      "cell_type": "code",
      "source": [
        "!octave sin_plot.m\n",
        "display.Image('sin_plot.png')"
      ],
      "metadata": {
        "colab": {
          "base_uri": "https://localhost:8080/",
          "height": 1000
        },
        "id": "1IF4_yfdQMaF",
        "outputId": "fa3ffe60-e2c2-4d76-ff40-6bc5db319dcf",
        "collapsed": true
      },
      "execution_count": 3,
      "outputs": [
        {
          "output_type": "stream",
          "name": "stdout",
          "text": [
            "octave: X11 DISPLAY environment variable not set\n",
            "octave: disabling GUI features\n",
            "warning: using the gnuplot graphics toolkit is discouraged\n",
            "\n",
            "The gnuplot graphics toolkit is not actively maintained and has a number\n",
            "of limitations that are ulikely to be fixed.  Communication with gnuplot\n",
            "uses a one-directional pipe and limited information is passed back to the\n",
            "Octave interpreter so most changes made interactively in the plot window\n",
            "will not be reflected in the graphics properties managed by Octave.  For\n",
            "example, if the plot window is closed with a mouse click, Octave will not\n",
            "be notified and will not update it's internal list of open figure windows.\n",
            "We recommend using the qt toolkit instead.\n",
            "                                                                               \n",
            "                                                                               \n",
            "          |------------------------Simple 2-D Plot--------------------------|  \n",
            "       1 +|+              **              +   ***          +       ***   +-+|  \n",
            "         +|              *+ *             +  **  *         +      ** **    +|  \n",
            "          |             *   **               *   **              **   *     |  \n",
            "          |             *    *              *     *              *     *    |  \n",
            "     0.5 *|+           *      *             *      *            **     * +-+|  \n",
            "         *|            *      *            *       *            *       *   |  \n",
            "          |           *       **           *       **           *       *   |  \n",
            "          |           *        *           *        *          *        **  |  \n",
            "       0 +|*          *        *          *         *          *         *-+|  \n",
            "          |*         *          *         *          *        *          *  |  \n",
            "          |**        *          *        *           *        *           * |  \n",
            "          | *       *           **       *           **       *           * |  \n",
            "          | *       *            *       *            *      *            **|  \n",
            "    -0.5 +|+ *     **            *      *             *      *           +-*|  \n",
            "          |  *     *              *     *              *    *               |  \n",
            "          |   *   **              **   *               **   *               |  \n",
            "         +|-----------------------------------------------------------------|  \n",
            "      -1 +-+   ***        +         ***   +              ***             +-+   \n",
            "        -10              -5               0                5              10   \n",
            "                                          x                                    \n",
            "                                                                               \n"
          ]
        },
        {
          "output_type": "execute_result",
          "data": {
            "image/png": "[encoded data removed]",
            "text/plain": [
              "<IPython.core.display.Image object>"
            ]
          },
          "metadata": {},
          "execution_count": 3
        }
      ]
    },
    {
      "cell_type": "markdown",
      "source": [
        "# **Starting Test**\n",
        "\n",
        "\n",
        "*   Function 𝒇(𝒕) = sin(𝒕)\n",
        "\n",
        "*   Function 𝒈(𝒕) = (𝒕-1)\\^2 - 1\n",
        "\n"
      ],
      "metadata": {
        "id": "_MpkyK4YDCap"
      }
    },
    {
      "cell_type": "markdown",
      "source": [
        "# Q1) How many solutions does the equation 𝒇=𝒈 have ?\n",
        "\n",
        "Hint: It could be useful to see how the plots of 𝒇 and 𝒈 are"
      ],
      "metadata": {
        "id": "11PDcV3tD_gR"
      }
    },
    {
      "cell_type": "markdown",
      "source": [
        "Answer for Question 1"
      ],
      "metadata": {
        "id": "Bip53QBsHmvC"
      }
    },
    {
      "cell_type": "code",
      "source": [
        "%%writefile Q1_answer.m\n",
        "t = linspace(-3,3,100);\n",
        "plot(t,sin(t))\n",
        "grid on\n",
        "hold on\n",
        "plot(t,(t-1).^2-1, 'r')\n",
        "hold off\n",
        "print -dpng Q1_answer.png;"
      ],
      "metadata": {
        "colab": {
          "base_uri": "https://localhost:8080/"
        },
        "id": "oO76iHBUHNy4",
        "outputId": "de821f2a-2441-4c81-cdc6-3cf8e3a79335"
      },
      "execution_count": 4,
      "outputs": [
        {
          "output_type": "stream",
          "name": "stdout",
          "text": [
            "Writing Q1_answer.m\n"
          ]
        }
      ]
    },
    {
      "cell_type": "code",
      "source": [
        "!octave Q1_answer.m\n",
        "display.Image('Q1_answer.png')"
      ],
      "metadata": {
        "id": "0oRwoXfcHx4r",
        "outputId": "7f09f106-f37c-4929-9b15-08f63de72199",
        "colab": {
          "base_uri": "https://localhost:8080/",
          "height": 1000
        }
      },
      "execution_count": 6,
      "outputs": [
        {
          "output_type": "stream",
          "name": "stdout",
          "text": [
            "octave: X11 DISPLAY environment variable not set\n",
            "octave: disabling GUI features\n",
            "warning: using the gnuplot graphics toolkit is discouraged\n",
            "\n",
            "The gnuplot graphics toolkit is not actively maintained and has a number\n",
            "of limitations that are ulikely to be fixed.  Communication with gnuplot\n",
            "uses a one-directional pipe and limited information is passed back to the\n",
            "Octave interpreter so most changes made interactively in the plot window\n",
            "will not be reflected in the graphics properties managed by Octave.  For\n",
            "example, if the plot window is closed with a mouse click, Octave will not\n",
            "be notified and will not update it's internal list of open figure windows.\n",
            "We recommend using the qt toolkit instead.\n",
            "     |----------------------------------------------------------------------|  \n",
            " 15 #|+$$$$$$$$$+$$$$$$$$$$$+$$$$$$$$$$$+$$$$$$$$$$+$$$$$$$$$$$+$$$$$$$$$+-+|  \n",
            "    +|#         +           +           +          +           +           +|  \n",
            "    $| ##       $           $           $          $           $           $|  \n",
            "    $|  ##      $           $           $          $           $           $|  \n",
            "    $|    ##    $           $           $          $           $           $|  \n",
            " 10 $|+$$$$$##$$$$$$$$$$$$$$$$$$$$$$$$$$$$$$$$$$$$$$$$$$$$$$$$$$$$$$$$$$$+-$|  \n",
            "    $|       ###$           $           $          $           $           $|  \n",
            "    $|         ##           $           $          $           $           $|  \n",
            "    $|          $##         $           $          $           $           $|  \n",
            "    $|          $  ##       $           $          $           $           $|  \n",
            "  5 $|+$$$$$$$$$$$$$$###$$$$$$$$$$$$$$$$$$$$$$$$$$$$$$$$$$$$$$$$$$$$$$$$$+-$|  \n",
            "    $|          $       ### $           $          $           $           $|  \n",
            "    $|          $         ####          $          $           $          ##|  \n",
            "    $|          $           $ ###       $          $           $       ### $|  \n",
            "    $|          $           $    ####   $     ********************#####    $|  \n",
            "  0 *|***$$$$$$$$$$$$$$$$$$$$$$$$****#######***$$$$$$$$$$$$$#######$$$$*****|  \n",
            "    $|   *************************      $  #################   $           $|  \n",
            "    $|          $           $           $          $           $           $|  \n",
            "    $|          $           $           $          $           $           $|  \n",
            "    +|----------------------------------------------------------------------|  \n",
            " -5 +-+$$$$$$$$$+$$$$$$$$$$$+$$$$$$$$$$$+$$$$$$$$$$+$$$$$$$$$$$+$$$$$$$$$+-+   \n",
            "   -3          -2          -1           0          1           2           3   \n",
            "                                                                               \n"
          ]
        },
        {
          "output_type": "execute_result",
          "data": {
            "image/png": "[encoded data removed]",
            "text/plain": [
              "<IPython.core.display.Image object>"
            ]
          },
          "metadata": {},
          "execution_count": 6
        }
      ]
    },
    {
      "cell_type": "markdown",
      "source": [
        "From the plots, you can see that there are 2 solutions where 𝒇=𝒈\n",
        "One solution at 𝒕1=0 and another solution at 2 ≤ 𝒕2 ≤ 3"
      ],
      "metadata": {
        "id": "-Zf2r1gGH9e2"
      }
    },
    {
      "cell_type": "markdown",
      "source": [
        "# Q2) Can you find numeric solutions for the equation 𝒇=𝒈 ?\n",
        "What are the values of 𝒕, 𝒇 and 𝒈 for the solutions ?"
      ],
      "metadata": {
        "id": "l-22mi4jI2-v"
      }
    },
    {
      "cell_type": "markdown",
      "source": [
        "Answer for Question 2"
      ],
      "metadata": {
        "id": "rmUcIGqGLKmn"
      }
    },
    {
      "cell_type": "code",
      "source": [
        "%%writefile Q2_answer.m\n",
        "pkg install -forge symbolic\n",
        "pkg load symbolic\n",
        "syms x\n",
        "S1 = vpasolve(sin(x) == (x-1).^2 - 1,x)\n",
        "S2 = vpasolve(sin(x) == (x-1).^2 - 1,x,2)\n",
        "f1 = sin(S1)\n",
        "f2 = sin(S2)"
      ],
      "metadata": {
        "id": "Q61U7YT_JGYD",
        "outputId": "f595023a-7cda-4d3d-a878-f815174512c7",
        "colab": {
          "base_uri": "https://localhost:8080/"
        }
      },
      "execution_count": 25,
      "outputs": [
        {
          "output_type": "stream",
          "name": "stdout",
          "text": [
            "Overwriting Q2_answer.m\n"
          ]
        }
      ]
    },
    {
      "cell_type": "code",
      "source": [
        "!octave Q2_answer.m"
      ],
      "metadata": {
        "id": "M_nqWfxfJamD",
        "outputId": "73cdc79f-9cf3-458d-937e-979d5b31d9d7",
        "colab": {
          "base_uri": "https://localhost:8080/"
        }
      },
      "execution_count": 26,
      "outputs": [
        {
          "output_type": "stream",
          "name": "stdout",
          "text": [
            "octave: X11 DISPLAY environment variable not set\n",
            "octave: disabling GUI features\n",
            "For information about changes from previous versions of the symbolic package, run 'news symbolic'.\n",
            "Symbolic pkg v3.2.1: Python communication link active, SymPy v1.12.\n",
            "S1 = (sym) 0\n",
            "S2 = (sym) 2.3169342886237397915227320498874\n",
            "f1 = (sym) 0\n",
            "f2 = (sym) 0.73431592055291558088156646339542\n",
            "\n"
          ]
        }
      ]
    }
  ]
}
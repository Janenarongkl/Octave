{
  "nbformat": 4,
  "nbformat_minor": 0,
  "metadata": {
    "colab": {
      "provenance": [],
      "authorship_tag": "ABX9TyO3v5QzaAXKg5UHOvYjByZL",
      "include_colab_link": true
    },
    "kernelspec": {
      "name": "python3",
      "display_name": "Python 3"
    },
    "language_info": {
      "name": "python"
    }
  },
  "cells": [
    {
      "cell_type": "markdown",
      "metadata": {
        "id": "view-in-github",
        "colab_type": "text"
      },
      "source": [
        "<a href=\"https://colab.research.google.com/github/Janenarongkl/Octave/blob/master/Exam_googlecolab.ipynb\" target=\"_parent\"><img src=\"https://colab.research.google.com/assets/colab-badge.svg\" alt=\"Open In Colab\"/></a>"
      ]
    },
    {
      "cell_type": "markdown",
      "source": [],
      "metadata": {
        "id": "A0UKMBncw-pp"
      }
    },
    {
      "cell_type": "markdown",
      "source": [
        "## **Installing GNU Octave into a Colab Session**"
      ],
      "metadata": {
        "id": "JcCqpXOdRkL-"
      }
    },
    {
      "cell_type": "code",
      "source": [
        "from IPython import display\n",
        "!sudo apt-get update\n",
        "!sudo apt-get install octave\n",
        "\n",
        "display.clear_output()\n",
        "\n",
        "#check that octave is installed\n",
        "!octave --version"
      ],
      "metadata": {
        "id": "Pp3CIU6swtSu"
      },
      "execution_count": null,
      "outputs": []
    },
    {
      "cell_type": "markdown",
      "source": [
        "## **Simple Mathematical Operation**"
      ],
      "metadata": {
        "id": "1_NA2snJPwYW"
      }
    },
    {
      "cell_type": "code",
      "source": [
        "#magic command to write a cell to a file\n",
        "%%writefile multiply.m\n",
        "x = 10;\n",
        "y = 5;\n",
        "z = 1;\n",
        "\n",
        "display(x*y-1);"
      ],
      "metadata": {
        "colab": {
          "base_uri": "https://localhost:8080/"
        },
        "id": "EmhyWMXlPRt0",
        "outputId": "f3ba7d7e-2cb8-49fb-956d-d994ac5d3972"
      },
      "execution_count": null,
      "outputs": [
        {
          "output_type": "stream",
          "name": "stdout",
          "text": [
            "Writing multiply.m\n"
          ]
        }
      ]
    },
    {
      "cell_type": "code",
      "source": [
        "#we run octave by calling it as a command and executing the m-file with the code\n",
        "!octave multiply.m"
      ],
      "metadata": {
        "colab": {
          "base_uri": "https://localhost:8080/"
        },
        "id": "lDAJIDLiPr3T",
        "outputId": "4f44bdb7-7321-46e9-b1cf-e1af9f9a16ae"
      },
      "execution_count": null,
      "outputs": [
        {
          "output_type": "stream",
          "name": "stdout",
          "text": [
            "octave: X11 DISPLAY environment variable not set\n",
            "octave: disabling GUI features\n",
            "49\n"
          ]
        }
      ]
    },
    {
      "cell_type": "markdown",
      "source": [
        "## **Generating a Plot**"
      ],
      "metadata": {
        "id": "-T7COCvjQ6W-"
      }
    },
    {
      "cell_type": "code",
      "source": [
        "%%writefile sin_plot.m\n",
        "# Create an evenly-spaced vector from -10..10\n",
        "x = -10:0.1:10;\n",
        "# y is also a vector\n",
        "y = sin (x);\n",
        "plot (x, y);\n",
        "title (\"Simple 2-D Plot\");\n",
        "xlabel (\"x\");\n",
        "ylabel (\"sin (x)\")\n",
        "#Can print to image or PDF\n",
        "print -dpng sin_plot.png;"
      ],
      "metadata": {
        "colab": {
          "base_uri": "https://localhost:8080/"
        },
        "id": "tglF0VSbPtzc",
        "outputId": "8ba63738-f7bc-4064-9435-c1e760be4ec7"
      },
      "execution_count": null,
      "outputs": [
        {
          "output_type": "stream",
          "name": "stdout",
          "text": [
            "Writing sin_plot.m\n"
          ]
        }
      ]
    },
    {
      "cell_type": "code",
      "source": [
        "!octave sin_plot.m\n",
        "display.Image('sin_plot.png')"
      ],
      "metadata": {
        "colab": {
          "base_uri": "https://localhost:8080/"
        },
        "id": "1IF4_yfdQMaF",
        "outputId": "3284dd68-e874-4bf9-cb79-fbee155c399c"
      },
      "execution_count": null,
      "outputs": [
        {
          "output_type": "stream",
          "name": "stdout",
          "text": [
            "octave: X11 DISPLAY environment variable not set\n",
            "octave: disabling GUI features\n",
            "warning: using the gnuplot graphics toolkit is discouraged\n",
            "\n",
            "The gnuplot graphics toolkit is not actively maintained and has a number\n",
            "of limitations that are ulikely to be fixed.  Communication with gnuplot\n",
            "uses a one-directional pipe and limited information is passed back to the\n",
            "Octave interpreter so most changes made interactively in the plot window\n",
            "will not be reflected in the graphics properties managed by Octave.  For\n",
            "example, if the plot window is closed with a mouse click, Octave will not\n",
            "be notified and will not update it's internal list of open figure windows.\n",
            "We recommend using the qt toolkit instead.\n",
            "                                                                               \n",
            "                                                                               \n",
            "          |------------------------Simple 2-D Plot--------------------------|  \n",
            "       1 +|+              **              +   ***          +       ***   +-+|  \n",
            "         +|              *+ *             +  **  *         +      ** **    +|  \n",
            "          |             *   **               *   **              **   *     |  \n",
            "          |             *    *              *     *              *     *    |  \n",
            "     0.5 *|+           *      *             *      *            **     * +-+|  \n",
            "         *|            *      *            *       *            *       *   |  \n",
            "          |           *       **           *       **           *       *   |  \n",
            "          |           *        *           *        *          *        **  |  \n",
            "       0 +|*          *        *          *         *          *         *-+|  \n",
            "          |*         *          *         *          *        *          *  |  \n",
            "          |**        *          *        *           *        *           * |  \n",
            "          | *       *           **       *           **       *           * |  \n",
            "          | *       *            *       *            *      *            **|  \n",
            "    -0.5 +|+ *     **            *      *             *      *           +-*|  \n",
            "          |  *     *              *     *              *    *               |  \n",
            "          |   *   **              **   *               **   *               |  \n",
            "         +|-----------------------------------------------------------------|  \n",
            "      -1 +-+   ***        +         ***   +              ***             +-+   \n",
            "        -10              -5               0                5              10   \n",
            "                                          x                                    \n",
            "                                                                               \n"
          ]
        }
      ]
    }
  ]
}
{
 "cells": [
  {
   "cell_type": "markdown",
   "metadata": {},
   "source": [
    "statistics-resampling online \n",
    "============\n",
    "\n",
    "Interact with Octave and the statistics-resampling package online in Jupyter Notebook with Binder. All commands are interpreted by Octave.  Since this is a [MetaKernel](https://github.com/Calysto/metakernel), a standard set of magics are available.  Help on commands is available using the `%help` magic or using `?` with a command. For the best experience, run this notebook in [JupyterLab](https://mybinder.org/v2/gh/acpennlab/statistics-resampling-online/master?labpath=statistics-resampling.ipynb). \n",
    "\n",
    "The code cells and their output below illustrate some examples of loading data and then performing analysis using functions from the **statistics-resampling** package. Follow the links in the **Quick start** section of the [README page](https://gnu-octave.github.io/statistics-resampling/readme.html), or on the [Function reference page](https://gnu-octave.github.io/statistics-resampling/function_reference), to find further examples. The example data files provided, **data1.csv** and **data2.csv**, can be edited directly in this instance of JupyterLab. You could consider forking and customizing the statistics-resampling-online [GitHub repository](https://github.com/acpennlab/statistics-resampling-online) to document and publish your data analysis project.\n",
    "    \n",
    "A small selection of packages come already installed and loaded. Visit [GNU Packages](https://gnu-octave.github.io/packages/) to see what other packages are available for GNU Octave and how to install them. To load a newly installed package called `<package-name>`, use the command `pkg load <package-name>`. To preview demonstration number `X` of a function called `<function-name>`, use the command `demo ('<function-name>', X)`. "
   ]
  },
  {
   "cell_type": "code",
   "execution_count": null,
   "metadata": {},
   "outputs": [],
   "source": [
    "# Run this code cell if you wish to know:\n",
    "# 1) The version of GNU Octave that we are running\n",
    "# 2) What packages (and their version) are already included (and loaded*) \n",
    "# 3) More information about the statistics-resampling package\n",
    "ver('Octave');\n",
    "pkg list;\n",
    "pkg describe -verbose statistics-resampling"
   ]
  },
  {
   "cell_type": "markdown",
   "metadata": {},
   "source": [
    "**Example 1**: Bootstrap confidence intervals using `bootci` with data loaded from **data1.csv** file using `csvread`. This  example relates to [`bootci` demonstration 8](https://gnu-octave.github.io/statistics-resampling/function/bootci.html#8). Note that `csvread` loads data from a file into a matrix and so all the data *must* be numeric and **without** header."
   ]
  },
  {
   "cell_type": "code",
   "execution_count": 23,
   "metadata": {},
   "outputs": [
    {
     "name": "stdout",
     "output_type": "stream",
     "text": [
      "ci =\n",
      "\n",
      "   0.5172\n",
      "   0.8652\n",
      "\n"
     ]
    }
   ],
   "source": [
    "# Load numeric data from comma-separated-value (CSV) file\n",
    "data1 = csvread ('data1.csv');\n",
    "\n",
    "# Assign data to variables\n",
    "x = data1 (:, 1);\n",
    "y = data1 (:, 2);\n",
    "\n",
    "# 95% BCa bootstrap confidence intervals for the correlation coefficient\n",
    "ci = bootci (1999, @cor, x, y)"
   ]
  },
  {
   "cell_type": "markdown",
   "metadata": {},
   "source": [
    "**Example 2**: Bootstrap two-way ANOVA (Type I) using `bootlm` with data loaded from **data2.csv** file using `csv2cell`. This  example relates to [`bootlm` demonstration 7](https://gnu-octave.github.io/statistics-resampling/function/bootlm.html#7). Note that `csv2cell` loads data from the file into a cell array and so can contain numbers and/or character strings. `csv2cell` can also delete a specified number of header rows."
   ]
  },
  {
   "cell_type": "code",
   "execution_count": 26,
   "metadata": {},
   "outputs": [
    {
     "name": "stdout",
     "output_type": "stream",
     "text": [
      "ANOVA SUMMARY with effect of gender averaged over levels of degree\n",
      "F(1,18) = 87.20, p = 0.0001 for the model: salary ~ 1 + gender\n",
      "F(1,18) = 10.97, p = 0.00495 for the model: salary ~ 1 + gender + degree\n",
      "F(1,18) = 0.42, p = 0.567 for the model: salary ~ 1 + gender + degree + gender:degree\n"
     ]
    }
   ],
   "source": [
    "# Load data from comma-separated-value (CSV) file containing non-numeric data and/or a header \n",
    "data2 = csv2cell ('data2.csv', 1);          # Load data into a cell array skipping the header in the first row\n",
    "\n",
    "# Assign data to variables\n",
    "degree = logical (cell2mat (data2(:, 1)));  # Convert column to logical values (true, false)\n",
    "gender = data2 (:, 2);                      # Leave column as cell array of strings\n",
    "salary = cell2mat (data2(:, 3));            # Convert column to numeric values (double-precision floating-point)\n",
    "\n",
    "# Bootstrap ANOVA\n",
    "[STATS, BOOTSTAT, AOVSTAT] = bootlm (salary, {degree, gender}, 'model', ...\n",
    "                             'full', 'display', 'off', 'varnames', ...\n",
    "                             {'gender', 'degree'}, 'seed', 1);\n",
    "\n",
    "# Report ANOVA results\n",
    "fprintf ('ANOVA SUMMARY with effect of gender averaged over levels of degree\\n')\n",
    "for i = 1:numel(AOVSTAT.F)\n",
    "  fprintf ('F(%u,%u) = %.2f, p = %.3g for the model: %s\\n', ...\n",
    "           AOVSTAT.DF(i), AOVSTAT.DFE, AOVSTAT.F(i), ...\n",
    "           AOVSTAT.PVAL(i), AOVSTAT.MODEL{i});\n",
    "end"
   ]
  },
  {
   "cell_type": "code",
   "execution_count": null,
   "metadata": {},
   "outputs": [],
   "source": []
  }
 ],
 "metadata": {
  "anaconda-cloud": {},
  "kernelspec": {
   "display_name": "Octave",
   "language": "octave",
   "name": "octave"
  },
  "language_info": {
   "file_extension": ".m",
   "help_links": [
    {
     "text": "GNU Octave",
     "url": "https://www.gnu.org/software/octave/support.html"
    },
    {
     "text": "Octave Kernel",
     "url": "https://github.com/Calysto/octave_kernel"
    },
    {
     "text": "MetaKernel Magics",
     "url": "https://metakernel.readthedocs.io/en/latest/source/README.html"
    }
   ],
   "mimetype": "text/x-octave",
   "name": "octave",
   "version": "8.4.0"
  }
 },
 "nbformat": 4,
 "nbformat_minor": 4
}

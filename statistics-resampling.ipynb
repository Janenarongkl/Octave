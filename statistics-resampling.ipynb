{
 "cells": [
  {
   "cell_type": "markdown",
   "metadata": {},
   "source": [
    "statistics-resampling-online \n",
    "============\n",
    "\n",
    "Interact with Octave and the statistics-resampling package online in Jupyter Notebook with Binder. All commands are interpreted by Octave.  Since this is a [MetaKernel](https://github.com/Calysto/metakernel), a standard set of magics are available.  Help on commands is available using the `%help` magic or using `?` with a command. For the best experience, run this notebook in [JupyterLab](https://mybinder.org/v2/gh/acpennlab/statistics-resampling-online/master?labpath=statistics-resampling.ipynb). \n",
    "\n",
    "The code cells and their output below illustrate some examples of loading data and then performing analysis using functions from the **statistics-resampling** package. Follow the links in the **Quick start** section of the [README page](https://gnu-octave.github.io/statistics-resampling/readme.html), or on the [Function reference page](https://gnu-octave.github.io/statistics-resampling/function_reference), to find further examples. The example data files provided, **data1.tsv** and **data2.csv**, can be edited directly in this instance of JupyterLab. You could consider forking the statistics-resampling-online [GitHub repository](https://github.com/acpennlab/statistics-resampling-online) and customizing the notebook (\\*.ipynb) and data (\\*.tsv and \\*.csv) files to document and publish your data analysis project.  \n",
    "\n",
    "A small selection of packages come already installed and loaded. Visit [GNU Octave Packages](https://gnu-octave.github.io/packages/) to see what other packages are available and how to install them. To load a newly installed package called `<package-name>`, use the command `pkg load <package-name>`. To preview demonstration number `X` of a function called `<function-name>`, use the command `demo ('<function-name>', X)`. To get more information about a particular function called `<function-name>`, use the command `help <function-name>`."
   ]
  },
  {
   "cell_type": "code",
   "execution_count": null,
   "metadata": {},
   "outputs": [],
   "source": [
    "# Run this code cell if you wish to know:\n",
    "# 1) The version of GNU Octave that we are running\n",
    "# 2) What packages (and their version) are already installed (and loaded*) here\n",
    "# 3) More information about the statistics-resampling package\n",
    "ver('Octave');\n",
    "pkg list;\n",
    "pkg describe -verbose statistics-resampling"
   ]
  },
  {
   "cell_type": "markdown",
   "metadata": {},
   "source": [
    "**Example 1** (below): Bootstrap confidence intervals for the correlation coefficient using `bootci` on (bivariate) data (in wide format) loaded from **data1.tsv**. Application of `randtest2` for comparing the mean of paired samples is also illustrated."
   ]
  },
  {
   "cell_type": "code",
   "execution_count": 1,
   "metadata": {},
   "outputs": [
    {
     "name": "stdout",
     "output_type": "stream",
     "text": [
      "ci =\n",
      "\n",
      "   0.5158\n",
      "   0.8630\n",
      "\n",
      "pval = 3.7879e-04\n"
     ]
    }
   ],
   "source": [
    "# Load data from tab-separated-value (TSV) file (i.e. tab-delimited text file) with header\n",
    "[before, after] = textread ('data1.tsv', '%f %f', 'Delimiter', '', 'HeaderLines', 1);\n",
    "\n",
    "# 95% BCa bootstrap confidence intervals for the correlation coefficient\n",
    "ci = bootci (1999, @cor, before, after)\n",
    "\n",
    "# Randomization test for comparing means of paired samples\n",
    "pval = randtest2 (before, after, true, 10000, @(A, B) mean (A) - mean (B))"
   ]
  },
  {
   "cell_type": "markdown",
   "metadata": {},
   "source": [
    "**Example 2** (below): Bootstrap two-way ANOVA (Type I) using `bootlm` with data (in long format) loaded from **data2.csv**."
   ]
  },
  {
   "cell_type": "code",
   "execution_count": 1,
   "metadata": {
    "tags": []
   },
   "outputs": [
    {
     "name": "stdout",
     "output_type": "stream",
     "text": [
      "ANOVA SUMMARY with effect of gender averaged over levels of degree\n",
      "F(1,18) = 87.20, p = 0.0001 for the model: salary ~ 1 + gender\n",
      "F(1,18) = 10.97, p = 0.00495 for the model: salary ~ 1 + gender + degree\n",
      "F(1,18) = 0.42, p = 0.567 for the model: salary ~ 1 + gender + degree + gender:degree\n",
      "\n",
      "MODEL FORMULA (based on Wilkinson's notation):\n",
      "\n",
      "salary ~ 1 + gender + degree + gender:degree\n",
      "\n",
      "MODEL ESTIMATED MARGINAL MEANS\n",
      "\n",
      "name                                   mean        CI_lower    CI_upper        N\n",
      "--------------------------------------------------------------------------------\n",
      "f, 1                                   +25.00      +24.03      +26.07          8\n",
      "m, 1                                   +27.00      +25.11      +29.00          3\n",
      "f, 0                                   +17.00      +15.20      +19.22          4\n",
      "m, 0                                   +20.00      +19.02      +21.03          7\n",
      "\n"
     ]
    },
    {
     "data": {
      "image/png": "[encoded data removed]",
      "text/plain": [
       "<IPython.core.display.Image object>"
      ]
     },
     "metadata": {},
     "output_type": "display_data"
    }
   ],
   "source": [
    "# Load data from comma-separated-value (CSV) file with header\n",
    "[degree, gender, salary] = textread ('data2.csv', '%u %s %f', 'Delimiter', ',', 'HeaderLines', 1);\n",
    "\n",
    "# Bootstrap ANOVA\n",
    "[STATS, BOOTSTAT, AOVSTAT] = bootlm (salary, {degree, gender}, 'model', ...\n",
    "                             'full', 'display', 'off', 'varnames', ...\n",
    "                             {'gender', 'degree'}, 'seed', 1);\n",
    "\n",
    "# Report ANOVA results\n",
    "fprintf ('ANOVA SUMMARY with effect of gender averaged over levels of degree\\n')\n",
    "for i = 1:numel(AOVSTAT.MODEL)\n",
    "  fprintf ('F(%u,%u) = %.2f, p = %.3g for the model: %s\\n', ...\n",
    "           AOVSTAT.DF(i), AOVSTAT.DFE, AOVSTAT.F(i), ...\n",
    "           AOVSTAT.PVAL(i), AOVSTAT.MODEL{i});\n",
    "end\n",
    "\n",
    "# Calculate estimate marginal means and credible intervals by bayesian bootstrap\n",
    "STATS = bootlm (salary, {gender, degree}, 'model', 'full', ...\n",
    "                        'display', 'on', 'varnames', ...\n",
    "                        {'gender', 'degree'}, 'dim', [1, 2], ...\n",
    "                        'method', 'bayesian','prior', 'auto');"
   ]
  },
  {
   "cell_type": "code",
   "execution_count": null,
   "metadata": {},
   "outputs": [],
   "source": []
  }
 ],
 "metadata": {
  "anaconda-cloud": {},
  "kernelspec": {
   "display_name": "Octave",
   "language": "octave",
   "name": "octave"
  },
  "language_info": {
   "file_extension": ".m",
   "help_links": [
    {
     "text": "GNU Octave",
     "url": "https://www.gnu.org/software/octave/support.html"
    },
    {
     "text": "Octave Kernel",
     "url": "https://github.com/Calysto/octave_kernel"
    },
    {
     "text": "MetaKernel Magics",
     "url": "https://metakernel.readthedocs.io/en/latest/source/README.html"
    }
   ],
   "mimetype": "text/x-octave",
   "name": "octave",
   "version": "8.4.0"
  }
 },
 "nbformat": 4,
 "nbformat_minor": 4
}

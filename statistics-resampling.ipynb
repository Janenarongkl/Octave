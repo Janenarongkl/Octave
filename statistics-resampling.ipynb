{
 "cells": [
  {
   "cell_type": "markdown",
   "metadata": {},
   "source": [
    "statistics-resampling online \n",
    "============\n",
    "\n",
    "Interact with Octave and the statistics-resampling package online in Jupyter Notebook with Binder. All commands are interpreted by Octave.  Since this is a [MetaKernel](https://github.com/Calysto/metakernel), a standard set of magics are available.  Help on commands is available using the `%help` magic or using `?` with a command.\n",
    "\n",
    "Follow the links in the 'Quick start' section of the [README page](https://gnu-octave.github.io/statistics-resampling/readme.html), or on the [Function reference page](https://gnu-octave.github.io/statistics-resampling/function_reference), to find some examples relevant to you that can be copy-and-pasted below and updated with your own data. *Ensure that code in each cell generates no more than one plot to the same figure  (unless using subplot) - replacing figures or plots does not display properly in gnuplot*. \n",
    "    \n",
    "To see a list of other Octave packages available, use the command `pkg list`. To load `<package-name>`, use the command `pkg load <package-name>`, being sure to replace `<package-name>` with the name of the package you wish to load. Visit this [webpage](https://gnu-octave.github.io/packages/) to see what packages are available for GNU Octave.\n",
    "    \n",
    "You could consider forking and customizing the statistics-resampling-online [GitHub repository](https://github.com/acpennlab/statistics-resampling-online) to document and publish your data analysis project."
   ]
  },
  {
   "cell_type": "code",
   "execution_count": null,
   "metadata": {
    "collapsed": false,
    "jupyter": {
     "outputs_hidden": false
    }
   },
   "outputs": [],
   "source": [
    "# YOU MUST RUN THIS CELL FIRST TO INSTALL AND LOAD THE STATISTICS-RESAMPLING PACKAGE\n",
    "fprintf('Any gnuplot warnings above are not a concern since our plotting requirements are very basic.\\n');\n",
    "pkg install -forge statistics-resampling;\n",
    "pkg load statistics-resampling;\n",
    "computer\n",
    "ver"
   ]
  },
  {
   "cell_type": "code",
   "execution_count": null,
   "metadata": {},
   "outputs": [],
   "source": [
    "# ENTER YOUR DATA AND CODE BELOW IN THIS CELL ONWARDS\n",
    "\n"
   ]
  }
 ],
 "metadata": {
  "anaconda-cloud": {},
  "kernelspec": {
   "display_name": "Octave",
   "language": "octave",
   "name": "octave"
  },
  "language_info": {
   "file_extension": ".m",
   "help_links": [
    {
     "text": "GNU Octave",
     "url": "https://www.gnu.org/software/octave/support.html"
    },
    {
     "text": "Octave Kernel",
     "url": "https://github.com/Calysto/octave_kernel"
    },
    {
     "text": "MetaKernel Magics",
     "url": "https://metakernel.readthedocs.io/en/latest/source/README.html"
    }
   ],
   "mimetype": "text/x-octave",
   "name": "octave",
   "version": "8.4.0"
  }
 },
 "nbformat": 4,
 "nbformat_minor": 4
}

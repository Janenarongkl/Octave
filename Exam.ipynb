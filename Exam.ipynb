{
 "cells": [
  {
   "cell_type": "markdown",
   "metadata": {},
   "source": [
    "MATLAB Programming Test\n",
    "============\n",
    "\n",
    "This notebook is used for testing MATLAB programming skill. Instead of MATLAB, it uses Octave which is an open-source language. Octave has the similar syntax as MATLAB."
   ]
  },
  {
   "cell_type": "markdown",
   "metadata": {},
   "source": [
    "%% This is used for selecting graphics_toolkit for plotting %%"
   ]
  },
  {
   "cell_type": "code",
   "execution_count": null,
   "metadata": {},
   "outputs": [],
   "source": [
    "available_graphics_toolkits();\n",
    "graphics_toolkit (\"gnuplot\")"
   ]
  },
  {
   "cell_type": "code",
   "execution_count": null,
   "metadata": {
    "collapsed": false,
    "jupyter": {
     "outputs_hidden": false
    }
   },
   "outputs": [],
   "source": [
    "t = linspace(-3,3,100)\n",
    "plot(t,sin(t))\n",
    "grid on\n",
    "hold on\n",
    "plot(t,(t-1).^2-1, 'r')\n",
    "hold off"
   ]
  }
 ],
 "metadata": {
  "anaconda-cloud": {},
  "kernelspec": {
   "display_name": "Octave",
   "language": "octave",
   "name": "octave"
  },
  "language_info": {
   "file_extension": ".m",
   "help_links": [
    {
     "text": "GNU Octave",
     "url": "https://www.gnu.org/software/octave/support.html"
    },
    {
     "text": "Octave Kernel",
     "url": "https://github.com/Calysto/octave_kernel"
    },
    {
     "text": "MetaKernel Magics",
     "url": "https://metakernel.readthedocs.io/en/latest/source/README.html"
    }
   ],
   "mimetype": "text/x-octave",
   "name": "octave",
   "version": "9.1.0"
  }
 },
 "nbformat": 4,
 "nbformat_minor": 4
}

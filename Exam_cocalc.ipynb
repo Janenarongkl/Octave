{
 "cells": [
  {
   "cell_type": "code",
   "execution_count": 1,
   "metadata": {
    "collapsed": false
   },
   "outputs": [
    {
     "name": "stdout",
     "output_type": "stream",
     "text": [
      "warning: using the gnuplot graphics toolkit is discouraged\r\n",
      "\r\n",
      "The gnuplot graphics toolkit is not actively maintained and has a number\r\n",
      "of limitations that are unlikely to be fixed.  Communication with gnuplot\r\n",
      "uses a one-directional pipe and limited information is passed back to the\r\n",
      "Octave interpreter so most changes made interactively in the plot window\r\n",
      "will not be reflected in the graphics properties managed by Octave.  For\r\n",
      "example, if the plot window is closed with a mouse click, Octave will not\r\n",
      "be notified and will not update its internal list of open figure windows.\r\n",
      "The qt toolkit is recommended instead.\r\n",
      "\n"
     ]
    },
    {
     "name": "stdout",
     "output_type": "stream",
     "text": [
      "ans =\r\n",
      "{\r\n",
      "  [1,1] = gnuplot\r\n",
      "}\r\n",
      "\r\n"
     ]
    }
   ],
   "source": [
    "available_graphics_toolkits()"
   ]
  },
  {
   "cell_type": "code",
   "execution_count": 9,
   "metadata": {
    "collapsed": false
   },
   "outputs": [
    {
     "data": {
      "image/png": "[encoded data removed]",
      "text/plain": [
       "<IPython.core.display.Image object>"
      ]
     },
     "execution_count": 9,
     "metadata": {
     },
     "output_type": "execute_result"
    }
   ],
   "source": [
    "t = linspace(-3,3,100);\n",
    "plot(t,sin(t))\n",
    "grid on\n",
    "hold on\n",
    "plot(t,(t-1).^2-1, 'r')\n",
    "hold off"
   ]
  },
  {
   "cell_type": "code",
   "execution_count": 6,
   "metadata": {
    "collapsed": false
   },
   "outputs": [
   ],
   "source": [
    "pkg load symbolic"
   ]
  },
  {
   "cell_type": "code",
   "execution_count": 7,
   "metadata": {
    "collapsed": false
   },
   "outputs": [
    {
     "name": "stdout",
     "output_type": "stream",
     "text": [
      "Symbolic pkg v3.1.1: Python communication link active, SymPy v1.9."
     ]
    },
    {
     "name": "stdout",
     "output_type": "stream",
     "text": [
      "\r\n"
     ]
    },
    {
     "name": "stdout",
     "output_type": "stream",
     "text": [
      "S = (sym) 0\r\n"
     ]
    }
   ],
   "source": [
    "syms x\n",
    "S = vpasolve(sin(x) == (x-1).^2 - 1,x)"
   ]
  },
  {
   "cell_type": "code",
   "execution_count": 8,
   "metadata": {
    "collapsed": false
   },
   "outputs": [
    {
     "name": "stdout",
     "output_type": "stream",
     "text": [
      "S = (sym) 2.3169342886237397915227320498874\r\n"
     ]
    }
   ],
   "source": [
    "S = vpasolve(sin(x) == (x-1).^2 - 1,x,2)"
   ]
  },
  {
   "cell_type": "code",
   "execution_count": 0,
   "metadata": {
    "collapsed": false
   },
   "outputs": [
   ],
   "source": [
   ]
  }
 ],
 "metadata": {
  "kernelspec": {
   "argv": [
    "python3",
    "-E",
    "-m",
    "octave_kernel",
    "-f",
    "{connection_file}"
   ],
   "display_name": "Octave 8.2",
   "env": {
   },
   "language": "octave",
   "metadata": {
    "cocalc": {
     "description": "A programming language for scientific computing.",
     "priority": 10,
     "url": "https://octave.org/"
    }
   },
   "name": "octave-8.2",
   "resource_dir": "/ext/jupyter/kernels/octave-8.2"
  },
  "language_info": {
   "file_extension": ".m",
   "help_links": [
    {
     "text": "GNU Octave",
     "url": "https://www.gnu.org/software/octave/support.html"
    },
    {
     "text": "Octave Kernel",
     "url": "https://github.com/Calysto/octave_kernel"
    },
    {
     "text": "MetaKernel Magics",
     "url": "https://metakernel.readthedocs.io/en/latest/source/README.html"
    }
   ],
   "mimetype": "text/x-octave",
   "name": "octave",
   "version": "8.2.0"
  }
 },
 "nbformat": 4,
 "nbformat_minor": 4
}